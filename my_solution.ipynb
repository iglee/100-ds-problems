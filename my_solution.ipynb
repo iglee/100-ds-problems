{
 "cells": [
  {
   "cell_type": "markdown",
   "metadata": {},
   "source": [
    "100 Data Science Programming Problems\n",
    "=====================================\n",
    "\n",
    "\n",
    "General Programming\n",
    "-------------------\n",
    "\n",
    "\n",
    "### 1. Write a function that converts a dictionary of equal length lists into a list of dictionaries.\n",
    "\n",
    " ```\n",
    "    {'a': [1, 2, 3], 'b': [3, 2, 1]}\n",
    "    => [{'a': 1, 'b': 3}, {'a': 2, 'b': 2}, {'a': 3, 'b': 1}]\n",
    "    ```"
   ]
  },
  {
   "cell_type": "code",
   "execution_count": 15,
   "metadata": {
    "collapsed": true
   },
   "outputs": [],
   "source": [
    "d = {'a': [1, 2, 3], 'b': [3, 2, 1]}"
   ]
  },
  {
   "cell_type": "code",
   "execution_count": 16,
   "metadata": {},
   "outputs": [
    {
     "data": {
      "text/plain": [
       "[1, 2, 3]"
      ]
     },
     "execution_count": 16,
     "metadata": {},
     "output_type": "execute_result"
    }
   ],
   "source": [
    "d['a']"
   ]
  },
  {
   "cell_type": "code",
   "execution_count": 17,
   "metadata": {},
   "outputs": [],
   "source": [
    "v = d.values()\n",
    "k = d.keys()"
   ]
  },
  {
   "cell_type": "code",
   "execution_count": 24,
   "metadata": {},
   "outputs": [
    {
     "data": {
      "text/plain": [
       "3"
      ]
     },
     "execution_count": 24,
     "metadata": {},
     "output_type": "execute_result"
    }
   ],
   "source": [
    "len(v[0])"
   ]
  },
  {
   "cell_type": "code",
   "execution_count": 27,
   "metadata": {},
   "outputs": [],
   "source": [
    "lst_dict = []\n",
    "for i in range(len(v[0])):\n",
    "    d_new = {}\n",
    "    for x in d.keys():\n",
    "        d_new[x] = d[x][i]\n",
    "    lst_dict.append(d_new)"
   ]
  },
  {
   "cell_type": "code",
   "execution_count": 28,
   "metadata": {},
   "outputs": [
    {
     "data": {
      "text/plain": [
       "[{'a': 1, 'b': 3}, {'a': 2, 'b': 2}, {'a': 3, 'b': 1}]"
      ]
     },
     "execution_count": 28,
     "metadata": {},
     "output_type": "execute_result"
    }
   ],
   "source": [
    "lst_dict"
   ]
  },
  {
   "cell_type": "code",
   "execution_count": 29,
   "metadata": {
    "collapsed": true
   },
   "outputs": [],
   "source": [
    "def dict_to_list_of_dicts(d):\n",
    "    lst_dict = []\n",
    "    for i in range(len(v[0])):\n",
    "        d_new = {}\n",
    "        for x in d.keys():\n",
    "            d_new[x] = d[x][i]\n",
    "        lst_dict.append(d_new)\n",
    "    return lst_dict"
   ]
  },
  {
   "cell_type": "code",
   "execution_count": 30,
   "metadata": {},
   "outputs": [
    {
     "data": {
      "text/plain": [
       "[{'a': 1, 'b': 3}, {'a': 2, 'b': 2}, {'a': 3, 'b': 1}]"
      ]
     },
     "execution_count": 30,
     "metadata": {},
     "output_type": "execute_result"
    }
   ],
   "source": [
    "dict_to_list_of_dicts(d)"
   ]
  },
  {
   "cell_type": "markdown",
   "metadata": {},
   "source": [
    "### 2. Write the inverse function to the previous problem, convert a list of dictionaries into a dictionary of equal length lists.\n",
    "\n",
    "    ```\n",
    "    [{'a': 1, 'b': 3}, {'a': 2, 'b': 2}, {'a': 3, 'b': 1}]\n",
    "    => {'a': [1, 2, 3], 'b': [3, 2, 1]}\n",
    "    ```"
   ]
  },
  {
   "cell_type": "code",
   "execution_count": 39,
   "metadata": {},
   "outputs": [],
   "source": [
    "lst_dict = [{'a': 1, 'b': 3}, {'a': 2, 'b': 2}, {'a': 3, 'b': 1}]\n",
    "\n",
    "from collections import defaultdict\n",
    "d_new=defaultdict(list)\n",
    "\n",
    "for d in lst_dict:\n",
    "    for k in d.keys():\n",
    "        d_new[k].append(d[k])\n",
    "        \n",
    "d_new = dict(d_new)"
   ]
  },
  {
   "cell_type": "code",
   "execution_count": 40,
   "metadata": {},
   "outputs": [
    {
     "data": {
      "text/plain": [
       "{'a': [1, 2, 3], 'b': [3, 2, 1]}"
      ]
     },
     "execution_count": 40,
     "metadata": {},
     "output_type": "execute_result"
    }
   ],
   "source": [
    "d_new"
   ]
  },
  {
   "cell_type": "code",
   "execution_count": 42,
   "metadata": {
    "collapsed": true
   },
   "outputs": [],
   "source": [
    "def lst_dicts_to_dict(lst_dict):\n",
    "    from collections import defaultdict\n",
    "    d_new=defaultdict(list)\n",
    "\n",
    "    for d in lst_dict:\n",
    "        for k in d.keys():\n",
    "            d_new[k].append(d[k])\n",
    "\n",
    "    d_new = dict(d_new)\n",
    "    return d_new"
   ]
  },
  {
   "cell_type": "code",
   "execution_count": 43,
   "metadata": {},
   "outputs": [
    {
     "data": {
      "text/plain": [
       "{'a': [1, 2, 3], 'b': [3, 2, 1]}"
      ]
     },
     "execution_count": 43,
     "metadata": {},
     "output_type": "execute_result"
    }
   ],
   "source": [
    "lst_dicts_to_dict(lst_dict)"
   ]
  },
  {
   "cell_type": "markdown",
   "metadata": {},
   "source": [
    "### 3. Given two lists of characters with the same length, write a function that returns a list of booleans, also of the same length.  The value in the return list should be True if *either* of the characters in the two lists at that index are vowels, otherwise it should return false.\n",
    "\n",
    "   ```\n",
    "   (['a', 'b', 'c', 'd', 'e'], ['v', 'w', 'x', 'y', 'z'])\n",
    "   => [True, False, False, False, True]\n",
    "   ```\n"
   ]
  },
  {
   "cell_type": "code",
   "execution_count": 44,
   "metadata": {
    "collapsed": true
   },
   "outputs": [],
   "source": [
    "lst_vowels = ['a','e','i','o','u']"
   ]
  },
  {
   "cell_type": "code",
   "execution_count": 57,
   "metadata": {},
   "outputs": [],
   "source": [
    "a, b = (['a', 'b', 'c', 'd', 'e'], ['v', 'w', 'x', 'y', 'z'])\n",
    "new_lst=[]\n",
    "\n",
    "\n",
    "for x,y in zip(a,b):\n",
    "    if x in lst_vowels or y in lst_vowels:\n",
    "        new_lst.append(True)\n",
    "    else:\n",
    "        new_lst.append(False)\n",
    "        "
   ]
  },
  {
   "cell_type": "code",
   "execution_count": 60,
   "metadata": {},
   "outputs": [],
   "source": [
    "def check_vowels(tuple_of_chars):\n",
    "    lst_vowels = ['a','e','i','o','u']\n",
    "    a, b = tuple_of_chars\n",
    "    new_lst=[]\n",
    "\n",
    "    for x,y in zip(a,b):\n",
    "        if x in lst_vowels or y in lst_vowels:\n",
    "            new_lst.append(True)\n",
    "        else:\n",
    "            new_lst.append(False)\n",
    "            \n",
    "    return new_lst"
   ]
  },
  {
   "cell_type": "code",
   "execution_count": 61,
   "metadata": {},
   "outputs": [
    {
     "data": {
      "text/plain": [
       "[True, False, False, False, True]"
      ]
     },
     "execution_count": 61,
     "metadata": {},
     "output_type": "execute_result"
    }
   ],
   "source": [
    "check_vowels((['a', 'b', 'c', 'd', 'e'], ['v', 'w', 'x', 'y', 'z']))"
   ]
  },
  {
   "cell_type": "markdown",
   "metadata": {},
   "source": [
    "### 4. Write a function that takes a string, and returns a dictionary that keys a list of words in the string according to the first letter in the word.\n",
    "\n",
    "   ```\n",
    "   \"a special string bearing an important salutation\"\n",
    "   => {'a': ['a', 'an'], 'b': ['bearing'], 'i': ['important'], 's': ['special', 'string', 'salutation']}\n",
    "   ```\n"
   ]
  },
  {
   "cell_type": "code",
   "execution_count": null,
   "metadata": {
    "collapsed": true
   },
   "outputs": [],
   "source": []
  },
  {
   "cell_type": "code",
   "execution_count": null,
   "metadata": {
    "collapsed": true
   },
   "outputs": [],
   "source": []
  },
  {
   "cell_type": "code",
   "execution_count": null,
   "metadata": {
    "collapsed": true
   },
   "outputs": [],
   "source": []
  },
  {
   "cell_type": "code",
   "execution_count": null,
   "metadata": {
    "collapsed": true
   },
   "outputs": [],
   "source": []
  },
  {
   "cell_type": "code",
   "execution_count": null,
   "metadata": {
    "collapsed": true
   },
   "outputs": [],
   "source": []
  },
  {
   "cell_type": "code",
   "execution_count": null,
   "metadata": {
    "collapsed": true
   },
   "outputs": [],
   "source": []
  },
  {
   "cell_type": "markdown",
   "metadata": {},
   "source": [
    "\n",
    "1. Write a function that reads lines from two files, and writes out a new file.  You may assume that each line in the input files contain a single word.  The output file should have the words concatenated with a comma, but the two words on each line should be in alphabetical order.  If the input files have different lengths, write single words to the output file until the longer file is exhausted.\n",
    "\n",
    "    ```\n",
    "    File 1:  File2:\n",
    "    This     And\n",
    "    is       another\n",
    "    a        file\n",
    "    file\n",
    "    of\n",
    "    words\n",
    "\n",
    "    Output File:\n",
    "    And, This\n",
    "    another, is\n",
    "    a, file\n",
    "    file\n",
    "    of\n",
    "    words\n",
    "    ```\n",
    "\n",
    "1. Given a list of equal length lists, transpose it.\n",
    "\n",
    "    ```\n",
    "    [[1, 2, 3], [4, 5, 6], [7, 8, 9]]\n",
    "    => [[1, 4, 7], [2, 5, 8], [3, 6, 9]]\n",
    "    ```\n",
    "\n",
    "1. Given a list of numbers representing the coefficients in a polynomial (largest powers first), write a function that returns a pretty string representation of the polynomial.\n",
    "\n",
    "    ```\n",
    "    [1, 1, 1] => \"x^2 + x + 1\"\n",
    "    [2, -1, -2] => \"2x^2 - x -2\"\n",
    "    [0, 9, -10] => \"9x - 10\"\n",
    "    ```\n",
    "\n",
    "    Pay attention to edge cases!\n",
    "\n",
    "1. We can represent a polynomial as a list of tuples, where each tuple is a (coefficient, degree) of a single monomial.  So, for example\n",
    "\n",
    "    ```\n",
    "    [(1, 0), (1, 1), (1, 2)] => 1 + x + x^2\n",
    "    [(2, 0), (-2, 1), (2, 2), (-2, 2)] => 2 - 2x + 2x^2 -2x^2\n",
    "    [(1, 0), (1, 1), (1, 0), (1, 1)] => 1 + x + 1 + x\n",
    "    ```\n",
    "\n",
    "Write a python function to simplify these polynomial data structures by combining terms with like degree. \n",
    "\n",
    "    ```\n",
    "    simplify_polynomial([(1, 0), (1, 1), (1, 2)])\n",
    "        => [(1, 0), (1, 1), (1, 2)]\n",
    "    simplify_polynomial([(2, 0), (-2, 1), (2, 2), (-2, 2)])\n",
    "        => [(2, 0), (-2, 1)]\n",
    "    simplify_polynomial([(1, 0), (1, 1), (1, 0), (1, 1)])\n",
    "        => [(2, 0), (2, 1)]\n",
    "    ```\n",
    "\n",
    "Notice that if a term in the simplified polynomial has degree zero, you should remove it from the resulting data structure.\n",
    "\n",
    "1. Using the same representation of polynomials as in the above problem, write a function to compute and simplify the derivative of a polynomial data structure.  If you need a reminder on how to compute the derivative of polynomials, [here](https://www.intmath.com/differentiation/5-derivative-polynomials.php) is a sufficient reference.\n",
    "\n",
    "    ```\n",
    "    differentiate_polynomial([(1, 0), (1, 1), (1, 2)])\n",
    "        => [(1, 0), (2, 1)]\n",
    "    differentiate_polynomial([(2, 0), (-2, 1), (2, 2), (-2, 2)])\n",
    "        => [(-2, 0)]\n",
    "    differentiate_polynomial([(1, 0), (1, 1), (1, 0), (1, 1)])\n",
    "        => [(1, 1)]\n",
    "    ```\n",
    "\n",
    "Data Manipulation - Numpy\n",
    "-------------------------\n",
    "\n",
    "1.  Given an integer numpy array of 0's and 1's, write a function that creates a new array where 0's are replaced with the word `\"red\"` and 1's are replaced with the word `\"blue\"`.\n",
    "\n",
    "    ```\n",
    "    np.array([0, 0, 1, 0, 1]) => np.array([\"red\", \"red\", \"blue\", \"red\", \"blue\"])\n",
    "    ```\n",
    "\n",
    "1.  Given two equal length arrays, `x` with general numeric data, and `b` with only 0's and 1's, compute the mean of the data in `x` at the positions where `b == 0` and the mean of the data in `x` at the positions where `b == 1`.\n",
    "\n",
    "    ```\n",
    "    x = np.array([1, 2, 3, 4, 5])\n",
    "    b = np.array([1, 1, 0, 0, 1])\n",
    "        => {0: 3.5, 1: 4}\n",
    "    ```\n",
    "\n",
    "1. Write a function that consumes a two-dimensional numpy array (so, a matrix), and a label which is either \"row\" or \"column\".  The function should return a one-dimensional numpy array (vector) with either the row or column averages.\n",
    "\n",
    "    ```\n",
    "    X = np.array([[0, 1], [2, 1]])\n",
    "    row_or_column_means(X, \"row\")\n",
    "        => np.array([0.5, 1.5])\n",
    "    row_or_column_means(X, \"column\")\n",
    "        => np.array([1.0, 1.0])\n",
    "    ```\n",
    "\n",
    "1.  Given an array `x`, and a matrix `M` (two dimensional array) with the same number of columns as the length of `x`, find the row in `M` that makes the smallest angle with `x`.\n",
    "\n",
    "1.  Given a number `n`, create a matrix of zeros, but with ones on the diagonals immediately below and above the main diagonal.  For example, when `n=5`, you should create the following matrix\n",
    "\n",
    "    ```\n",
    "    [\n",
    "    [0, 1, 0, 0, 0],\n",
    "    [1, 0, 1, 0, 0],\n",
    "    [0, 1, 0, 1, 0],\n",
    "    [0, 0, 1, 0, 1],\n",
    "    [0, 0, 0, 1, 0]\n",
    "    ]\n",
    "    ```\n",
    "\n",
    "1.  Given a matrix `M`, create a new matrix containing only the *columns* of `M` where at least one of the entries is negative.\n",
    "\n",
    "1.  Write a function that swaps two rows of a matrix:\n",
    "\n",
    "    ```\n",
    "    def swap_rows(M, i, j)\n",
    "    ```\n",
    "\n",
    "1.  Write a function that creates a square matrix with a checkerboard pattern of 0's and 1's of any given size.\n",
    "\n",
    "    ```\n",
    "    [\n",
    "    [1, 0, 1, 0, 1],\n",
    "    [0, 1, 0, 1, 0],\n",
    "    [1, 0, 1, 0, 1],\n",
    "    [0, 1, 0, 1, 0],\n",
    "    [1, 0, 1, 0, 1],\n",
    "    ]\n",
    "    ```\n",
    "\n",
    "1.  Write a function that takes *any* number of matrices, and determines if they can be multiplied in the order passed.\n",
    "\n",
    "1.  Write a function that converts an  array of shape `(n, 2)` representing Cartesian coordinates of `n` points into a new `(n, 2)` array containing the polar coordinates of those points.\n",
    "\n",
    "    ```\n",
    "    np.array([[0, 1], [1, 0], [1, 1]])\n",
    "        => np.array([1, np.pi], [1, 0], [np.sqrt(2), np.pi / 2])\n",
    "    ```\n",
    "\n",
    "1.  Given a `(n, 3)` matrix of points (each point is represented by one row, and has three coordinates), and an additional vector with three coordinates, return an `(n, 2)` matrix representing the projection of the original points onto the plane orthogonal to the vector.\n",
    "\n",
    "    ```\n",
    "    project_orthogonal_to_vector(matrix, vector)\n",
    "    ```\n",
    "\n",
    "    Is this problem fully specified?  Do you have to make any choices to accomplish this task?\n",
    "\n",
    "1.  Write a function that takes two numpy arrays of shapes (n, k) and (m, k), representing points in k-dimensional space, and returns an array of shape (n, m) giving the Euclidean distance between each point in the first array and each point in the second. Try to write it without any loops.\n",
    "\n",
    "\n",
    "Data Manipulation - Pandas\n",
    "--------------------------\n",
    "\n",
    "1. You have a pandas DataFrame `berries` which contains columns `type` and `size`.  Select all the (rows representing) blueberries larger than 0.5 cm in size.\n",
    "\n",
    "1. You have a pandas DataFrame `berries` which contains columns `type` and `size`.  Create a dataframe containing the largest berry of each size.\n",
    "\n",
    "1. You have a pandas DataFrame containing observations of stock prices over time, it contains columns `stock`, `day` and `price`.  Create a data frame that contains the stock price for each stock on the *day after* they achieve their maximum price.\n",
    "\n",
    "\n",
    "Probability\n",
    "-----------\n",
    "\n",
    "1. You have a shuffled deck of 60 cards containing the following cards of special interest.  \n",
    "  - Three of these cards in the deck are marked with a diamond.\n",
    "  - Three of the cards are marked with a star.  \n",
    "  - The remaining cards are nothing special.\n",
    "    You draw an initial hand of five cards, after which you *must* discard any of the star cards for an additional three cards drawn from the top of the deck.  This process is repeated until you find yourself with a hand that does *not* contain any star cards.  Write a simulation to approximate the probability that your initial draw results in a final hand containing a diamond card. \n",
    "\n",
    "1. Use a built in function which samples data from a uniform distribution (for example `np.random.uniform` in python), to generate samples from the exponential distribution with a given parameter.  To start, consider reading about the [inverse sampling method](https://en.wikipedia.org/wiki/Inverse_transform_sampling).  Plot a histogram of data sampled using your code, and overlay the density function of an exponential distribution.\n",
    "\n",
    "1. Write a function that samples random data from a true simple linear model with a given intercept, slope, and residual standard deviation.  Your function should additionally consume an array `x` containing data for the independent variable of the model:\n",
    "\n",
    "    ```\n",
    "    def generate_simple_linear_data(x, intercept, slope, residual_sd):\n",
    "    ```\n",
    "\n",
    "    The function should return the sampled `y` values.\n",
    "\n",
    "1. You visit a website that provides amusing data-science jokes. Each time you visit it displays a joke randomly chosen from a finite set. Over the course of four visits, you see three unique jokes and one repeat. Using maximum likelihood estimation, estimate the total number of jokes on the website.\n",
    "\n",
    "\n",
    "Statistics\n",
    "----------\n",
    "\n",
    "1. Write a function that computes the p-value from a one tailed exact binomial test for a population proportion.  Your function should have the following signature:\n",
    "\n",
    "    ```\n",
    "    def binomial_exact_test(n_samples, n_positive_samples, proposed_value)\n",
    "    ```\n",
    "\n",
    "    And should compute the p-value of the following test:\n",
    "\n",
    "    ```\n",
    "    H_0: p = proposed_value\n",
    "    h_a: p > proposed_value\n",
    "    ```\n",
    "\n",
    "    Where `p` is the population proportion.\n",
    "\n",
    "    You may utilize a built in function that computes the pmf or cmf of the Binomial distribution.\n",
    "\n",
    "1. Write a linear regression class with the following methods:\n",
    "\n",
    "    ```\n",
    "    class LinearRegression(object):\n",
    "\n",
    "        def __init__(self):\n",
    "            self.coeffs_ = None\n",
    "\n",
    "        def fit(X, y):\n",
    "            pass\n",
    "\n",
    "        def predict(X):\n",
    "            pass\n",
    "    ```\n",
    "\n",
    "    To fit the regression, use a linear equation solver to explicitly solve the matrix equation `X^t X beta = X^t y` for beta.\n",
    "\n",
    "1. Fit a logistic regression to `X_train` and `y_train`, then compute and return the proportion of data in `X_test` and `y_test` that are correctly classified when threasholding the predicted probabilities with `threas`.\n",
    "\n",
    "    ```\n",
    "    def logistic_accuracy(X_train, y_train, X_test, Y_test, thres)\n",
    "    ```\n",
    "\n",
    "1. Fit a logistic regression and return the maximal profit that can be achieved by classifying predicted probabilities for observations from a test set.  The profits/costs of true/false positives and true/false negatives are supplied in a two by two `profit_matrix` (profits are positive numbers, costs are negative numbers).\n",
    "\n",
    "    ```\n",
    "    def logistic_profit(X_train, y_train, X_test, Y_test, profit_matrix)\n",
    "    ```\n",
    "\n",
    "1. You are running a popular role-playing game. In it, the players create characters that have randomly generated values for 6 different attributes, each found by summing the rolls of three 6-sided dice, so each attribute will range from 3 to 18 (higher is better).\n",
    "\n",
    "To save time you have each person generate their own characters before you get together, but you are worried some of them might cheat. Design a frequentist a/b test to investigate this. Consider the ways in which someone might cheat (in particular, cheaters don't want to get caught and might care more about some attributes than others).\n",
    "\n",
    "\n",
    "Algorithms\n",
    "----------\n",
    "\n",
    "1. Given the following data:\n",
    "\n",
    "  - A function `f: np.array => float` that maps a numpy array to a floating point number.\n",
    "  - A function `df: np.array => np.array` that maps a numpy array to another numpy array, this is the gradient of `f`.\n",
    "  - An initial point `_0x`, stored as a numpy array.\n",
    "  - A learning rate `learning_rate`, a floating point number.\n",
    "  - A `tolerance`, floating point number.\n",
    "\n",
    "    Write an iterator `gradient_descent` (i.e. like a function, but uses `yield`) that generates the sequence of points by applying gradiend descent to the function `f`, starting at the initial point `x_0`, with the learning rate `learning_rate`, until the convergence tolerance `tolerance` is met.\n",
    "\n",
    "    ```\n",
    "    gradient_descent(f, df, x_0, learning_rate=0.01, tolerance=0.01)\n",
    "    ```\n",
    "\n",
    "2. In the same situation of the previous problem, except with the extra data\n",
    "\n",
    "  - A function `ddf: np.array => np.array` that maps a numpy array to a matrix, this is the second derivative of `f`.\n",
    "\n",
    "    Write an iterator that generates a sequence of points by applying Newton's method.  Try *not* to explicitly invert a matrix, use `np.linalg.solve` instead.\n",
    "\n",
    "3. Write a class that implements *peicewise linear regression*.  This is a linear regression, but instead of fitting a single line to the data, it fits various lines of changing slope that join up continuously.  \n",
    "\n",
    "![Piecewise Linear Regression](img/pw-regression.png)\n",
    "\n",
    "The points where it changes slope are called *knots*.  Your class should have the following structure:\n",
    "\n",
    "    ```\n",
    "    class PWLinearRegression(object):\n",
    "        \"\"\"\n",
    "        Fit piecewise linear regression on data.\n",
    "        \n",
    "        Parameters\n",
    "        -------\n",
    "        Knots : Array\n",
    "            Knot locations.\n",
    "        \"\"\"\n",
    "        def __init__(self, knots):\n",
    "            pass\n",
    "            \n",
    "        def fit(self,x, y):\n",
    "            \"\"\"\n",
    "            Fit piecewise linear model.\n",
    "            \n",
    "            Parameters\n",
    "            ----------\n",
    "            x : 1D numpy array of data inputs\n",
    "            y : 1D numpy array of data responses\n",
    "            \"\"\"\n",
    "            pass\n",
    "            \n",
    "        def predict(self, x):\n",
    "            \"\"\"\n",
    "            Make predictions with fit model.\n",
    "            \n",
    "            Parameters\n",
    "            ----------\n",
    "            x : int, float, 1D array/list type of model prediction inputs.\n",
    "            \n",
    "            Returns\n",
    "            -------\n",
    "            Predicted response of x shape.\n",
    "            \"\"\"\n",
    "            pass\n",
    "        ```\n",
    "\n",
    "Feel free to use any numpy or sklearn methods.\n",
    "\n",
    "\n",
    "Plotting\n",
    "--------\n",
    "\n",
    "1.  Using your function that creates sample data from a simple linear model, superimpose the true linear model onto a scatterplot of the generated data. \n",
    "\n",
    "1. Create a (2, 3) grid of plots.  Inside each plot display the coordinates of the plot, like so:\n",
    "\n",
    "    ```\n",
    "    +----------+----------+----------+\n",
    "    |  (0, 0)  |  (0, 1)  |  (0, 2)  |\n",
    "    +----------+----------+----------+\n",
    "    |  (1, 0)  |  (1, 1)  |  (1, 2)  |\n",
    "    +----------+----------+----------+\n",
    "    ```\n",
    "\n",
    "1. Given a list pairs of ordered pairs, like so:\n",
    "\n",
    "    ```\n",
    "    [[(0, 1), (1, 0)], [(1, 1), (2, 2)], [(-1, 0), (0, -1)]]\n",
    "    ```\n",
    "\n",
    "    Plot each of them as vectors (as in, a picture of an arrow) whose tail is at the first coordinate, and whose head is at the second.\n",
    "\n",
    "\n",
    "SQL\n",
    "---\n",
    "\n",
    "The following problems use tables with the following table schemas for a database keeping records of checkouts for library patrons and books.  This is only a selection of tables in the database, there are possibly many more.\n",
    "\n",
    "#### Users\n",
    "\n",
    "| column    | type    |\n",
    "|-----------|---------|\n",
    "| user_id   | int     |\n",
    "| join_date | date    |\n",
    "| branch_id | int     |\n",
    "| name      | string  |\n",
    "\n",
    "#### Books\n",
    "\n",
    "| column       | type   |\n",
    "|--------------|--------|\n",
    "| book_id      | int    |\n",
    "| author_id    | int    |\n",
    "| genere_id    | int    |\n",
    "| publish_date | date   |\n",
    "| name         | string |\n",
    "\n",
    "#### Checkouts\n",
    "\n",
    "| column        | type      |\n",
    "|---------------|-----------|\n",
    "| user_id       | int       |\n",
    "| book_id       | int       |\n",
    "| checkout_time | timestamp |\n",
    "| return_time   | timestamp |\n",
    "\n",
    "The `return_time` field may be `null` in the case that the book has not yet been returned.\n",
    "\n",
    "\n",
    "1. Write a query that returns all the users (by name) that have checked out a book within the last month.\n",
    "\n",
    "1. Write a query that returns all the users (by name) that have a currently checked out book.\n",
    "\n",
    "1. Assuming that the checkout time for a book is one month, write a query returning all users (by name) that have an overdue book.  Summarize this data to produce a list of possibly stolen books (you will have to come up with a reasonable interpretation of what this means).\n",
    "\n",
    "1. Amend the prior query to return a table of all (user, book) pairs that are possibly stolen.  Identify the users and books by name in the query results.\n",
    "\n",
    "\n",
    "Web Programming\n",
    "---------------\n",
    "\n",
    "1. Write a function `redbubble_creators` which takes a search string, and returns all the artists whose products appear on the first search result page when that search string is used.\n",
    "\n",
    "    ```\n",
    "    redbubble_creators('zelda')\n",
    "    redbubble_creators('eno')\n",
    "    ```\n",
    "1. Add an optional argument, `type`, which will subset the returned artists from the previous query to only those that have a product form the given category.\n",
    "\n",
    "    ```\n",
    "    # Zelda stickers\n",
    "    redbubble_creators('zelda', type='sticker')\n",
    "    # Eno shirts\n",
    "    redbubble_creators('eno', type='shirt')\n",
    "    ```\n",
    "1. Add an optional argument, `pages`, that will return search results from the given query appearing on the first `n` pages.\n",
    "\n",
    "    ```\n",
    "    # Zelda stickers on the first five pages\n",
    "    redbubble_creators('zelda', type='sticker', pages=5)\n",
    "    ```\n",
    "1. Read the leaderboard for [Super Metroid](http://deertier.com/Leaderboard/AnyPercentRealTime) completion times into a data frame.\n",
    "\n",
    "1. Using the leaderboards for [Ocarina of Time](http://zeldaspeedruns.com/leaderboards/oot/any), scrape data and then plot the progression of the world record over time.  That is, for each possible day, calculate the fastest submitted time up to that day.  Note that the leaderboard itself does not contain all submitted times, only the fastest submitted time for each user.  Following the hyperlink for each user in the leaderboard table will show you all the times submitted for that user, some of which may have stood as a world record in the past. "
   ]
  },
  {
   "cell_type": "code",
   "execution_count": null,
   "metadata": {
    "collapsed": true
   },
   "outputs": [],
   "source": []
  },
  {
   "cell_type": "code",
   "execution_count": null,
   "metadata": {
    "collapsed": true
   },
   "outputs": [],
   "source": []
  },
  {
   "cell_type": "code",
   "execution_count": null,
   "metadata": {
    "collapsed": true
   },
   "outputs": [],
   "source": []
  },
  {
   "cell_type": "code",
   "execution_count": null,
   "metadata": {
    "collapsed": true
   },
   "outputs": [],
   "source": []
  },
  {
   "cell_type": "code",
   "execution_count": 32,
   "metadata": {
    "collapsed": true
   },
   "outputs": [],
   "source": [
    "ints = [4, 3, 2, 3, 4]\n",
    "s=6\n",
    "\n",
    "solns = set();\n",
    "\n",
    "for i, x in enumerate(ints):\n",
    "    a = ints[i+1:]\n",
    "    if s-x in a:\n",
    "        soln = (ints.index(x), a.index(s-x)+i+1)\n",
    "        solns.add(soln)"
   ]
  },
  {
   "cell_type": "code",
   "execution_count": 33,
   "metadata": {},
   "outputs": [
    {
     "data": {
      "text/plain": [
       "{(0, 2), (1, 3), (2, 4)}"
      ]
     },
     "execution_count": 33,
     "metadata": {},
     "output_type": "execute_result"
    }
   ],
   "source": [
    "solns"
   ]
  },
  {
   "cell_type": "code",
   "execution_count": 34,
   "metadata": {},
   "outputs": [
    {
     "data": {
      "text/plain": [
       "[(0, 2), (1, 3), (2, 4)]"
      ]
     },
     "execution_count": 34,
     "metadata": {},
     "output_type": "execute_result"
    }
   ],
   "source": [
    "sorted(solns)"
   ]
  },
  {
   "cell_type": "code",
   "execution_count": null,
   "metadata": {
    "collapsed": true
   },
   "outputs": [],
   "source": [
    "def sum_pairs(ints,s):\n",
    "    solns = set();\n",
    "\n",
    "    for i, x in enumerate(ints):\n",
    "        a = ints[i+1:]\n",
    "        if s-x in a:\n",
    "            soln = (ints.index(x), a.index(s-x)+i+1)\n",
    "            solns.add(soln)\n",
    "            \n",
    "    "
   ]
  },
  {
   "cell_type": "code",
   "execution_count": null,
   "metadata": {
    "collapsed": true
   },
   "outputs": [],
   "source": []
  },
  {
   "cell_type": "code",
   "execution_count": null,
   "metadata": {
    "collapsed": true
   },
   "outputs": [],
   "source": []
  },
  {
   "cell_type": "code",
   "execution_count": null,
   "metadata": {
    "collapsed": true
   },
   "outputs": [],
   "source": []
  },
  {
   "cell_type": "code",
   "execution_count": null,
   "metadata": {
    "collapsed": true
   },
   "outputs": [],
   "source": []
  },
  {
   "cell_type": "code",
   "execution_count": null,
   "metadata": {
    "collapsed": true
   },
   "outputs": [],
   "source": []
  },
  {
   "cell_type": "code",
   "execution_count": null,
   "metadata": {
    "collapsed": true
   },
   "outputs": [],
   "source": []
  }
 ],
 "metadata": {
  "kernelspec": {
   "display_name": "Python 2",
   "language": "python",
   "name": "python2"
  },
  "language_info": {
   "codemirror_mode": {
    "name": "ipython",
    "version": 2
   },
   "file_extension": ".py",
   "mimetype": "text/x-python",
   "name": "python",
   "nbconvert_exporter": "python",
   "pygments_lexer": "ipython2",
   "version": "2.7.13"
  }
 },
 "nbformat": 4,
 "nbformat_minor": 2
}
